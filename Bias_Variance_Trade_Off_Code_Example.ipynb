{
 "cells": [
  {
   "cell_type": "code",
   "execution_count": 3,
   "id": "438ad086",
   "metadata": {},
   "outputs": [],
   "source": [
    "import matplotlib.pyplot as plt \n",
    "from sklearn.pipeline import  make_pipeline\n",
    "from sklearn.preprocessing import PolynomialFeatures\n",
    "from sklearn.model_selection import train_test_split\n",
    "from sklearn.linear_model import LinearRegression\n",
    "from sklearn.metrics import  mean_squared_error, r2_score\n",
    "import numpy as np "
   ]
  },
  {
   "cell_type": "markdown",
   "id": "87e76667",
   "metadata": {},
   "source": [
    "## 1. Create synthetic dataset"
   ]
  },
  {
   "cell_type": "code",
   "execution_count": 9,
   "id": "f4daa92e",
   "metadata": {},
   "outputs": [
    {
     "data": {
      "text/plain": [
       "array([0.02541913, 0.03142919, 0.07697991, 0.10789143, 0.11959425,\n",
       "       0.16122129, 0.18657006, 0.22879817, 0.24929223, 0.28975145,\n",
       "       0.31435598, 0.41038292, 0.42754102, 0.4937956 , 0.50857069,\n",
       "       0.52273283, 0.53934224, 0.5612772 , 0.63340376, 0.63641041,\n",
       "       0.71324479, 0.75555114, 0.76078505, 0.77096718, 0.80367208,\n",
       "       0.80812038, 0.87146059, 0.892559  , 0.90756647, 0.92969765])"
      ]
     },
     "execution_count": 9,
     "metadata": {},
     "output_type": "execute_result"
    }
   ],
   "source": [
    "n_samples = 30 \n",
    "X = np.sort(np.random.rand(n_samples))\n",
    "X"
   ]
  },
  {
   "cell_type": "code",
   "execution_count": 10,
   "id": "9d5ad471",
   "metadata": {},
   "outputs": [
    {
     "data": {
      "text/plain": [
       "array([ 1.1543224 ,  1.16827052,  0.99852193,  0.89552202,  0.89093795,\n",
       "        0.81043844,  0.80137766,  0.64507362,  0.38715313,  0.30608353,\n",
       "        0.17279171, -0.3107407 , -0.40553074, -0.6186104 , -0.54649936,\n",
       "       -0.71401738, -0.72157624, -0.73858651, -0.91501428, -0.79549637,\n",
       "       -0.78351824, -0.86319746, -0.80379601, -0.8214481 , -0.7417571 ,\n",
       "       -0.77856042, -0.44744759, -0.38441227, -0.41164304, -0.26953576])"
      ]
     },
     "execution_count": 10,
     "metadata": {},
     "output_type": "execute_result"
    }
   ],
   "source": [
    "def true_function(X):\n",
    "    return np.cos(1.5*np.pi * X)\n",
    "y = true_function(X) + np.random.rand(n_samples) * 0.2 \n",
    "y"
   ]
  },
  {
   "cell_type": "code",
   "execution_count": 13,
   "id": "ff5b9f00",
   "metadata": {},
   "outputs": [
    {
     "data": {
      "text/plain": [
       "(30, 1)"
      ]
     },
     "execution_count": 13,
     "metadata": {},
     "output_type": "execute_result"
    }
   ],
   "source": [
    "X = X.reshape(-1,1)\n",
    "X.shape "
   ]
  },
  {
   "cell_type": "code",
   "execution_count": 15,
   "id": "a6a68ebb",
   "metadata": {},
   "outputs": [],
   "source": [
    "X_train, X_test, y_train, y_test = train_test_split(X,y, test_size=0.3, random_state=42)"
   ]
  },
  {
   "cell_type": "code",
   "execution_count": null,
   "id": "7acf2d36",
   "metadata": {},
   "outputs": [],
   "source": []
  }
 ],
 "metadata": {
  "kernelspec": {
   "display_name": "myenv",
   "language": "python",
   "name": "python3"
  },
  "language_info": {
   "codemirror_mode": {
    "name": "ipython",
    "version": 3
   },
   "file_extension": ".py",
   "mimetype": "text/x-python",
   "name": "python",
   "nbconvert_exporter": "python",
   "pygments_lexer": "ipython3",
   "version": "3.10.13"
  }
 },
 "nbformat": 4,
 "nbformat_minor": 5
}
